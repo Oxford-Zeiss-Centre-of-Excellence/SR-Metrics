{
 "cells": [
  {
   "cell_type": "markdown",
   "metadata": {},
   "source": [
    "# Self Rolling Fourier Ring Correlation Map\n",
    "\n",
    "A quick notebook implementation of self-rolling Fourier Ring Correlation (srFRC) map."
   ]
  }
 ],
 "metadata": {
  "language_info": {
   "name": "python"
  }
 },
 "nbformat": 4,
 "nbformat_minor": 2
}
